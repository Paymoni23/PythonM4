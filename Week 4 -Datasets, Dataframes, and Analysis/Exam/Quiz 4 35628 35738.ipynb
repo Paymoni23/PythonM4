{
 "cells": [
  {
   "cell_type": "markdown",
   "id": "a5525380",
   "metadata": {},
   "source": [
    "## Quiz 4"
   ]
  },
  {
   "cell_type": "markdown",
   "id": "4adc18ff",
   "metadata": {},
   "source": [
    "Answer the questions in the box provided. You need to run the code and show the output for the questions which require coding or type your answer inside the box for the fill-in-the-blank questions. This is an open-book quiz. You are allowed to consult any local or online resources, except for ChatGPT. Any misconduct or cheating will result in a score of 0. Good luck!"
   ]
  },
  {
   "cell_type": "markdown",
   "id": "b770eb76",
   "metadata": {},
   "source": [
    "<font size = 3> For all questions except 1-1 and 1-3, follow these steps:\n",
    "* Write code to solve the question in the first box (the box labeled with the phrase #Write your code here: ).\n",
    "* In the following box(es), provide the correct answer in the blank ..... <br>"
   ]
  },
  {
   "cell_type": "markdown",
   "id": "118a5c82",
   "metadata": {},
   "source": [
    "<font size = 3> In order to receive a point for a question, both boxes must contain correct answers."
   ]
  },
  {
   "cell_type": "markdown",
   "id": "4eb105e3",
   "metadata": {},
   "source": [
    "## Part 1"
   ]
  },
  {
   "cell_type": "markdown",
   "id": "3a881e30",
   "metadata": {},
   "source": [
    "1-1 Use Pandas to read the `starbucks` dataset from `starbucks.csv` into a DataFrame."
   ]
  },
  {
   "cell_type": "code",
   "execution_count": 1,
   "id": "16ba2271",
   "metadata": {},
   "outputs": [
    {
     "data": {
      "text/html": [
       "<div>\n",
       "<style scoped>\n",
       "    .dataframe tbody tr th:only-of-type {\n",
       "        vertical-align: middle;\n",
       "    }\n",
       "\n",
       "    .dataframe tbody tr th {\n",
       "        vertical-align: top;\n",
       "    }\n",
       "\n",
       "    .dataframe thead th {\n",
       "        text-align: right;\n",
       "    }\n",
       "</style>\n",
       "<table border=\"1\" class=\"dataframe\">\n",
       "  <thead>\n",
       "    <tr style=\"text-align: right;\">\n",
       "      <th></th>\n",
       "      <th>Beverage_category</th>\n",
       "      <th>Beverage</th>\n",
       "      <th>Beverage_prep</th>\n",
       "      <th>Calories</th>\n",
       "      <th>Total Fat (g)</th>\n",
       "      <th>Trans Fat (g)</th>\n",
       "      <th>Saturated Fat (g)</th>\n",
       "      <th>Sodium (mg)</th>\n",
       "      <th>Total Carbohydrates (g)</th>\n",
       "      <th>Cholesterol (mg)</th>\n",
       "      <th>Dietary Fibre (g)</th>\n",
       "      <th>Sugars (g)</th>\n",
       "      <th>Protein (g)</th>\n",
       "      <th>Vitamin A (% DV)</th>\n",
       "      <th>Vitamin C (% DV)</th>\n",
       "      <th>Calcium (% DV)</th>\n",
       "      <th>Iron (% DV)</th>\n",
       "      <th>Caffeine (mg)</th>\n",
       "    </tr>\n",
       "  </thead>\n",
       "  <tbody>\n",
       "    <tr>\n",
       "      <th>0</th>\n",
       "      <td>Coffee</td>\n",
       "      <td>Brewed Coffee</td>\n",
       "      <td>Short</td>\n",
       "      <td>3</td>\n",
       "      <td>0.1</td>\n",
       "      <td>0.0</td>\n",
       "      <td>0.0</td>\n",
       "      <td>0</td>\n",
       "      <td>5</td>\n",
       "      <td>0</td>\n",
       "      <td>0</td>\n",
       "      <td>0</td>\n",
       "      <td>0.3</td>\n",
       "      <td>0%</td>\n",
       "      <td>0%</td>\n",
       "      <td>0%</td>\n",
       "      <td>0%</td>\n",
       "      <td>175</td>\n",
       "    </tr>\n",
       "    <tr>\n",
       "      <th>1</th>\n",
       "      <td>Coffee</td>\n",
       "      <td>Brewed Coffee</td>\n",
       "      <td>Tall</td>\n",
       "      <td>4</td>\n",
       "      <td>0.1</td>\n",
       "      <td>0.0</td>\n",
       "      <td>0.0</td>\n",
       "      <td>0</td>\n",
       "      <td>10</td>\n",
       "      <td>0</td>\n",
       "      <td>0</td>\n",
       "      <td>0</td>\n",
       "      <td>0.5</td>\n",
       "      <td>0%</td>\n",
       "      <td>0%</td>\n",
       "      <td>0%</td>\n",
       "      <td>0%</td>\n",
       "      <td>260</td>\n",
       "    </tr>\n",
       "    <tr>\n",
       "      <th>2</th>\n",
       "      <td>Coffee</td>\n",
       "      <td>Brewed Coffee</td>\n",
       "      <td>Grande</td>\n",
       "      <td>5</td>\n",
       "      <td>0.1</td>\n",
       "      <td>0.0</td>\n",
       "      <td>0.0</td>\n",
       "      <td>0</td>\n",
       "      <td>10</td>\n",
       "      <td>0</td>\n",
       "      <td>0</td>\n",
       "      <td>0</td>\n",
       "      <td>1.0</td>\n",
       "      <td>0%</td>\n",
       "      <td>0%</td>\n",
       "      <td>0%</td>\n",
       "      <td>0%</td>\n",
       "      <td>330</td>\n",
       "    </tr>\n",
       "    <tr>\n",
       "      <th>3</th>\n",
       "      <td>Coffee</td>\n",
       "      <td>Brewed Coffee</td>\n",
       "      <td>Venti</td>\n",
       "      <td>5</td>\n",
       "      <td>0.1</td>\n",
       "      <td>0.0</td>\n",
       "      <td>0.0</td>\n",
       "      <td>0</td>\n",
       "      <td>10</td>\n",
       "      <td>0</td>\n",
       "      <td>0</td>\n",
       "      <td>0</td>\n",
       "      <td>1.0</td>\n",
       "      <td>0%</td>\n",
       "      <td>0%</td>\n",
       "      <td>2%</td>\n",
       "      <td>0%</td>\n",
       "      <td>410</td>\n",
       "    </tr>\n",
       "    <tr>\n",
       "      <th>4</th>\n",
       "      <td>Classic Espresso Drinks</td>\n",
       "      <td>Caffè Latte</td>\n",
       "      <td>Short Nonfat Milk</td>\n",
       "      <td>70</td>\n",
       "      <td>0.1</td>\n",
       "      <td>0.1</td>\n",
       "      <td>0.0</td>\n",
       "      <td>5</td>\n",
       "      <td>75</td>\n",
       "      <td>10</td>\n",
       "      <td>0</td>\n",
       "      <td>9</td>\n",
       "      <td>6.0</td>\n",
       "      <td>10%</td>\n",
       "      <td>0%</td>\n",
       "      <td>20%</td>\n",
       "      <td>0%</td>\n",
       "      <td>75</td>\n",
       "    </tr>\n",
       "    <tr>\n",
       "      <th>...</th>\n",
       "      <td>...</td>\n",
       "      <td>...</td>\n",
       "      <td>...</td>\n",
       "      <td>...</td>\n",
       "      <td>...</td>\n",
       "      <td>...</td>\n",
       "      <td>...</td>\n",
       "      <td>...</td>\n",
       "      <td>...</td>\n",
       "      <td>...</td>\n",
       "      <td>...</td>\n",
       "      <td>...</td>\n",
       "      <td>...</td>\n",
       "      <td>...</td>\n",
       "      <td>...</td>\n",
       "      <td>...</td>\n",
       "      <td>...</td>\n",
       "      <td>...</td>\n",
       "    </tr>\n",
       "    <tr>\n",
       "      <th>237</th>\n",
       "      <td>Frappuccino® Blended Crème</td>\n",
       "      <td>Strawberries &amp; Crème (Without Whipped Cream)</td>\n",
       "      <td>Soymilk</td>\n",
       "      <td>320</td>\n",
       "      <td>3 2</td>\n",
       "      <td>0.4</td>\n",
       "      <td>0.0</td>\n",
       "      <td>0</td>\n",
       "      <td>250</td>\n",
       "      <td>67</td>\n",
       "      <td>1</td>\n",
       "      <td>64</td>\n",
       "      <td>5.0</td>\n",
       "      <td>6%</td>\n",
       "      <td>8%</td>\n",
       "      <td>20%</td>\n",
       "      <td>10%</td>\n",
       "      <td>0</td>\n",
       "    </tr>\n",
       "    <tr>\n",
       "      <th>238</th>\n",
       "      <td>Frappuccino® Blended Crème</td>\n",
       "      <td>Vanilla Bean (Without Whipped Cream)</td>\n",
       "      <td>Tall Nonfat Milk</td>\n",
       "      <td>170</td>\n",
       "      <td>0.1</td>\n",
       "      <td>0.1</td>\n",
       "      <td>0.0</td>\n",
       "      <td>0</td>\n",
       "      <td>160</td>\n",
       "      <td>39</td>\n",
       "      <td>0</td>\n",
       "      <td>38</td>\n",
       "      <td>4.0</td>\n",
       "      <td>6%</td>\n",
       "      <td>0%</td>\n",
       "      <td>10%</td>\n",
       "      <td>0%</td>\n",
       "      <td>0</td>\n",
       "    </tr>\n",
       "    <tr>\n",
       "      <th>239</th>\n",
       "      <td>Frappuccino® Blended Crème</td>\n",
       "      <td>Vanilla Bean (Without Whipped Cream)</td>\n",
       "      <td>Whole Milk</td>\n",
       "      <td>200</td>\n",
       "      <td>3.5</td>\n",
       "      <td>2.0</td>\n",
       "      <td>0.1</td>\n",
       "      <td>10</td>\n",
       "      <td>160</td>\n",
       "      <td>39</td>\n",
       "      <td>0</td>\n",
       "      <td>38</td>\n",
       "      <td>3.0</td>\n",
       "      <td>6%</td>\n",
       "      <td>0%</td>\n",
       "      <td>10%</td>\n",
       "      <td>0%</td>\n",
       "      <td>0</td>\n",
       "    </tr>\n",
       "    <tr>\n",
       "      <th>240</th>\n",
       "      <td>Frappuccino® Blended Crème</td>\n",
       "      <td>Vanilla Bean (Without Whipped Cream)</td>\n",
       "      <td>Soymilk</td>\n",
       "      <td>180</td>\n",
       "      <td>1.5</td>\n",
       "      <td>0.2</td>\n",
       "      <td>0.0</td>\n",
       "      <td>0</td>\n",
       "      <td>160</td>\n",
       "      <td>37</td>\n",
       "      <td>1</td>\n",
       "      <td>35</td>\n",
       "      <td>3.0</td>\n",
       "      <td>4%</td>\n",
       "      <td>0%</td>\n",
       "      <td>10%</td>\n",
       "      <td>6%</td>\n",
       "      <td>0</td>\n",
       "    </tr>\n",
       "    <tr>\n",
       "      <th>241</th>\n",
       "      <td>Frappuccino® Blended Crème</td>\n",
       "      <td>Vanilla Bean (Without Whipped Cream)</td>\n",
       "      <td>Grande Nonfat Milk</td>\n",
       "      <td>240</td>\n",
       "      <td>0.1</td>\n",
       "      <td>0.1</td>\n",
       "      <td>0.0</td>\n",
       "      <td>5</td>\n",
       "      <td>230</td>\n",
       "      <td>56</td>\n",
       "      <td>0</td>\n",
       "      <td>55</td>\n",
       "      <td>5.0</td>\n",
       "      <td>8%</td>\n",
       "      <td>0%</td>\n",
       "      <td>15%</td>\n",
       "      <td>0%</td>\n",
       "      <td>0</td>\n",
       "    </tr>\n",
       "  </tbody>\n",
       "</table>\n",
       "<p>242 rows × 18 columns</p>\n",
       "</div>"
      ],
      "text/plain": [
       "              Beverage_category                                      Beverage  \\\n",
       "0                        Coffee                                 Brewed Coffee   \n",
       "1                        Coffee                                 Brewed Coffee   \n",
       "2                        Coffee                                 Brewed Coffee   \n",
       "3                        Coffee                                 Brewed Coffee   \n",
       "4       Classic Espresso Drinks                                   Caffè Latte   \n",
       "..                          ...                                           ...   \n",
       "237  Frappuccino® Blended Crème  Strawberries & Crème (Without Whipped Cream)   \n",
       "238  Frappuccino® Blended Crème          Vanilla Bean (Without Whipped Cream)   \n",
       "239  Frappuccino® Blended Crème          Vanilla Bean (Without Whipped Cream)   \n",
       "240  Frappuccino® Blended Crème          Vanilla Bean (Without Whipped Cream)   \n",
       "241  Frappuccino® Blended Crème          Vanilla Bean (Without Whipped Cream)   \n",
       "\n",
       "          Beverage_prep  Calories  Total Fat (g)  Trans Fat (g)   \\\n",
       "0                 Short         3            0.1             0.0   \n",
       "1                  Tall         4            0.1             0.0   \n",
       "2                Grande         5            0.1             0.0   \n",
       "3                 Venti         5            0.1             0.0   \n",
       "4     Short Nonfat Milk        70            0.1             0.1   \n",
       "..                  ...       ...            ...             ...   \n",
       "237             Soymilk       320            3 2             0.4   \n",
       "238    Tall Nonfat Milk       170            0.1             0.1   \n",
       "239          Whole Milk       200            3.5             2.0   \n",
       "240             Soymilk       180            1.5             0.2   \n",
       "241  Grande Nonfat Milk       240            0.1             0.1   \n",
       "\n",
       "     Saturated Fat (g)   Sodium (mg)   Total Carbohydrates (g)   \\\n",
       "0                  0.0             0                          5   \n",
       "1                  0.0             0                         10   \n",
       "2                  0.0             0                         10   \n",
       "3                  0.0             0                         10   \n",
       "4                  0.0             5                         75   \n",
       "..                 ...           ...                        ...   \n",
       "237                0.0             0                        250   \n",
       "238                0.0             0                        160   \n",
       "239                0.1            10                        160   \n",
       "240                0.0             0                        160   \n",
       "241                0.0             5                        230   \n",
       "\n",
       "     Cholesterol (mg)   Dietary Fibre (g)   Sugars (g)   Protein (g)   \\\n",
       "0                   0                   0            0            0.3   \n",
       "1                   0                   0            0            0.5   \n",
       "2                   0                   0            0            1.0   \n",
       "3                   0                   0            0            1.0   \n",
       "4                  10                   0            9            6.0   \n",
       "..                ...                 ...          ...            ...   \n",
       "237                67                   1           64            5.0   \n",
       "238                39                   0           38            4.0   \n",
       "239                39                   0           38            3.0   \n",
       "240                37                   1           35            3.0   \n",
       "241                56                   0           55            5.0   \n",
       "\n",
       "    Vitamin A (% DV)  Vitamin C (% DV)  Calcium (% DV)  Iron (% DV)   \\\n",
       "0                  0%               0%               0%           0%   \n",
       "1                  0%               0%               0%           0%   \n",
       "2                  0%               0%               0%           0%   \n",
       "3                  0%               0%               2%           0%   \n",
       "4                 10%               0%              20%           0%   \n",
       "..                ...              ...              ...          ...   \n",
       "237                6%               8%              20%          10%   \n",
       "238                6%               0%              10%           0%   \n",
       "239                6%               0%              10%           0%   \n",
       "240                4%               0%              10%           6%   \n",
       "241                8%               0%              15%           0%   \n",
       "\n",
       "    Caffeine (mg)  \n",
       "0             175  \n",
       "1             260  \n",
       "2             330  \n",
       "3             410  \n",
       "4              75  \n",
       "..            ...  \n",
       "237             0  \n",
       "238             0  \n",
       "239             0  \n",
       "240             0  \n",
       "241             0  \n",
       "\n",
       "[242 rows x 18 columns]"
      ]
     },
     "execution_count": 1,
     "metadata": {},
     "output_type": "execute_result"
    }
   ],
   "source": [
    "import pandas as pd\n",
    "pd.read_csv('starbucks.csv')\n"
   ]
  },
  {
   "cell_type": "markdown",
   "id": "0d5ba1b1",
   "metadata": {},
   "source": [
    "1-2 Use Pandas to figure out how many columns and rows the DF has."
   ]
  },
  {
   "cell_type": "code",
   "execution_count": 42,
   "id": "da8180a3",
   "metadata": {},
   "outputs": [
    {
     "data": {
      "text/plain": [
       "(242, 18)"
      ]
     },
     "execution_count": 42,
     "metadata": {},
     "output_type": "execute_result"
    }
   ],
   "source": [
    "import pandas as pd\n",
    "pd.read_csv('starbucks.csv')\n",
    "DF = pd.read_csv('starbucks.csv')\n",
    "DF.shape"
   ]
  },
  {
   "cell_type": "markdown",
   "id": "64ea72a2",
   "metadata": {},
   "source": [
    "number of columns is \"18\""
   ]
  },
  {
   "cell_type": "markdown",
   "id": "aabb113c",
   "metadata": {},
   "source": [
    "number of rows is \"242\""
   ]
  },
  {
   "cell_type": "markdown",
   "id": "65fc136b",
   "metadata": {},
   "source": [
    "1-3 Write a code that inspects the first 19 rows in the first box below and a code that inspects the last 5 rows in the second box."
   ]
  },
  {
   "cell_type": "code",
   "execution_count": null,
   "id": "2cbaddd4",
   "metadata": {},
   "outputs": [],
   "source": [
    "import pandas as pd\n",
    "pd.read_csv('starbucks.csv')\n",
    "DF = pd.read_csv('starbucks.csv')\n",
    "DF.head(19)"
   ]
  },
  {
   "cell_type": "code",
   "execution_count": null,
   "id": "a0f10177",
   "metadata": {},
   "outputs": [],
   "source": [
    "import pandas as pd\n",
    "pd.read_csv('starbucks.csv')\n",
    "DF = pd.read_csv('starbucks.csv')\n",
    "DF.tail(5)"
   ]
  },
  {
   "cell_type": "markdown",
   "id": "a8ec885c",
   "metadata": {},
   "source": [
    "1-4 Which columns (if any) have missing values?"
   ]
  },
  {
   "cell_type": "code",
   "execution_count": null,
   "id": "42d730ff",
   "metadata": {},
   "outputs": [],
   "source": []
  },
  {
   "cell_type": "markdown",
   "id": "d5fab788",
   "metadata": {},
   "source": [
    "The columns which contain missing values are ....."
   ]
  },
  {
   "cell_type": "markdown",
   "id": "7b756bdb",
   "metadata": {},
   "source": [
    "1-5 How many floats columns are in the DataFrame?"
   ]
  },
  {
   "cell_type": "code",
   "execution_count": 39,
   "id": "8a663396",
   "metadata": {},
   "outputs": [
    {
     "data": {
      "text/plain": [
       "Beverage_category            242\n",
       "Beverage                     242\n",
       "Beverage_prep                242\n",
       "Calories                     242\n",
       " Total Fat (g)               242\n",
       "Trans Fat (g)                242\n",
       "Saturated Fat (g)            242\n",
       " Sodium (mg)                 242\n",
       " Total Carbohydrates (g)     242\n",
       "Cholesterol (mg)             242\n",
       " Dietary Fibre (g)           242\n",
       " Sugars (g)                  242\n",
       " Protein (g)                 242\n",
       "Vitamin A (% DV)             242\n",
       "Vitamin C (% DV)             242\n",
       " Calcium (% DV)              242\n",
       "Iron (% DV)                  242\n",
       "Caffeine (mg)                241\n",
       "dtype: int64"
      ]
     },
     "execution_count": 39,
     "metadata": {},
     "output_type": "execute_result"
    }
   ],
   "source": [
    "import pandas as pd\n",
    "pd.read_csv('starbucks.csv')\n",
    "DF = pd.read_csv('starbucks.csv')\n",
    "DF.count()"
   ]
  },
  {
   "cell_type": "markdown",
   "id": "65bc6a36",
   "metadata": {},
   "source": [
    "The number of floats columns is \"18\""
   ]
  },
  {
   "cell_type": "markdown",
   "id": "cfc3b2b6",
   "metadata": {},
   "source": [
    "## Part 2"
   ]
  },
  {
   "cell_type": "markdown",
   "id": "d733497e",
   "metadata": {},
   "source": [
    "**Use `starbucks.csv` to answer the following questions:**"
   ]
  },
  {
   "cell_type": "markdown",
   "id": "0611b225",
   "metadata": {},
   "source": [
    "2-1 Find the highest Calories in the DataFrame."
   ]
  },
  {
   "cell_type": "code",
   "execution_count": 30,
   "id": "3a81ce3d",
   "metadata": {},
   "outputs": [
    {
     "data": {
      "text/plain": [
       "510"
      ]
     },
     "execution_count": 30,
     "metadata": {},
     "output_type": "execute_result"
    }
   ],
   "source": [
    "import pandas as pd\n",
    "pd.read_csv('starbucks.csv')\n",
    "DF = pd.read_csv('starbucks.csv')\n",
    "DF[\"Calories\"].max()"
   ]
  },
  {
   "cell_type": "markdown",
   "id": "0fd63573",
   "metadata": {},
   "source": [
    "The highest calories in the DataFrame is \"510\""
   ]
  },
  {
   "cell_type": "markdown",
   "id": "e1a1eaa5",
   "metadata": {},
   "source": [
    "2-2 What is the average calories, rounded to one decimal digit, of the last 56 rows?"
   ]
  },
  {
   "cell_type": "code",
   "execution_count": 26,
   "id": "05e003ab",
   "metadata": {},
   "outputs": [
    {
     "data": {
      "text/plain": [
       "249.82142857142858"
      ]
     },
     "execution_count": 26,
     "metadata": {},
     "output_type": "execute_result"
    }
   ],
   "source": [
    "import pandas as pd\n",
    "pd.read_csv('starbucks.csv')\n",
    "DF = pd.read_csv('starbucks.csv')\n",
    "DF[\"Calories\"].tail(56).mean()"
   ]
  },
  {
   "cell_type": "markdown",
   "id": "0ea95680",
   "metadata": {},
   "source": [
    "The average calories of the last 56 rows is \"249.82142857142858 or 250\""
   ]
  },
  {
   "cell_type": "markdown",
   "id": "2bb8c88d",
   "metadata": {},
   "source": [
    "2-3 What is the sum of all the values in the `Total Carbohydrates` column?"
   ]
  },
  {
   "cell_type": "code",
   "execution_count": 24,
   "id": "8bd3c575",
   "metadata": {},
   "outputs": [
    {
     "data": {
      "text/plain": [
       "31190"
      ]
     },
     "execution_count": 24,
     "metadata": {},
     "output_type": "execute_result"
    }
   ],
   "source": [
    "import pandas as pd\n",
    "pd.read_csv('starbucks.csv')\n",
    "DF = pd.read_csv('starbucks.csv')\n",
    "DF[\" Total Carbohydrates (g) \"].sum()"
   ]
  },
  {
   "cell_type": "markdown",
   "id": "f3502eb4",
   "metadata": {},
   "source": [
    "The sum of the values in the `Total Carbohydrates` column is \"31190\""
   ]
  },
  {
   "cell_type": "markdown",
   "id": "52c2fc06",
   "metadata": {},
   "source": [
    "2-4 How many different beverage categories are in the dataset?"
   ]
  },
  {
   "cell_type": "code",
   "execution_count": 23,
   "id": "e2eb1eea",
   "metadata": {},
   "outputs": [
    {
     "data": {
      "text/plain": [
       "9"
      ]
     },
     "execution_count": 23,
     "metadata": {},
     "output_type": "execute_result"
    }
   ],
   "source": [
    "#Write your code here:\n",
    "import pandas as pd\n",
    "pd.read_csv('starbucks.csv')\n",
    "DF = pd.read_csv('starbucks.csv')\n",
    "DF[\"Beverage_category\"].nunique()"
   ]
  },
  {
   "cell_type": "markdown",
   "id": "a222d4f8",
   "metadata": {},
   "source": [
    "The dataframe has \"9\" beverage categories."
   ]
  },
  {
   "cell_type": "markdown",
   "id": "57f8f2bf",
   "metadata": {},
   "source": [
    "2-5 Which beverage has the most transactions? How many times does it appear in the dataset?"
   ]
  },
  {
   "cell_type": "code",
   "execution_count": 21,
   "id": "94e397c4",
   "metadata": {},
   "outputs": [
    {
     "data": {
      "text/plain": [
       "'Tazo® Full-Leaf Red Tea Latte (Vanilla Rooibos)'"
      ]
     },
     "execution_count": 21,
     "metadata": {},
     "output_type": "execute_result"
    }
   ],
   "source": [
    "#Write your code here:\n",
    "import pandas as pd\n",
    "pd.read_csv('starbucks.csv')\n",
    "DF = pd.read_csv('starbucks.csv')\n",
    "DF[\"Beverage\"].value_counts().idxmax()\n"
   ]
  },
  {
   "cell_type": "code",
   "execution_count": 22,
   "id": "b92395bb",
   "metadata": {},
   "outputs": [
    {
     "data": {
      "text/plain": [
       "12"
      ]
     },
     "execution_count": 22,
     "metadata": {},
     "output_type": "execute_result"
    }
   ],
   "source": [
    "#Write your code here:\n",
    "import pandas as pd\n",
    "pd.read_csv('starbucks.csv')\n",
    "DF = pd.read_csv('starbucks.csv')\n",
    "DF[\"Beverage\"].value_counts().max()"
   ]
  },
  {
   "cell_type": "markdown",
   "id": "a4631236",
   "metadata": {},
   "source": [
    "The name of the beverage which has the most transactions is \"Tazo® Full-Leaf Red Tea Latte (Vanilla Rooibos)\""
   ]
  },
  {
   "cell_type": "markdown",
   "id": "64312330",
   "metadata": {},
   "source": [
    "It appears in the dataset \"12\" times."
   ]
  }
 ],
 "metadata": {
  "kernelspec": {
   "display_name": "Python 3 (ipykernel)",
   "language": "python",
   "name": "python3"
  },
  "language_info": {
   "codemirror_mode": {
    "name": "ipython",
    "version": 3
   },
   "file_extension": ".py",
   "mimetype": "text/x-python",
   "name": "python",
   "nbconvert_exporter": "python",
   "pygments_lexer": "ipython3",
   "version": "3.12.0"
  }
 },
 "nbformat": 4,
 "nbformat_minor": 5
}
