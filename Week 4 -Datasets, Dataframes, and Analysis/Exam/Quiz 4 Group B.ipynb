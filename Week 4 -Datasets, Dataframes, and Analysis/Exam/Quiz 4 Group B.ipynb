{
 "cells": [
  {
   "cell_type": "markdown",
   "id": "a5525380",
   "metadata": {},
   "source": [
    "## Quiz 4"
   ]
  },
  {
   "cell_type": "markdown",
   "id": "4adc18ff",
   "metadata": {},
   "source": [
    "Answer the questions in the box provided. You need to run the code and show the output for the questions which require coding or type your answer inside the box for the fill-in-the-blank questions. This is an open-book quiz. You are allowed to consult any local or online resources, except for ChatGPT. Any misconduct or cheating will result in a score of 0. Good luck!"
   ]
  },
  {
   "cell_type": "markdown",
   "id": "b770eb76",
   "metadata": {},
   "source": [
    "<font size = 3> For all questions except 1-1 and 1-3, follow these steps:\n",
    "* Write code to solve the question in the first box (the box labeled with the phrase #Write your code here: ).\n",
    "* In the following box(es), provide the correct answer in the blank ..... <br>"
   ]
  },
  {
   "cell_type": "markdown",
   "id": "118a5c82",
   "metadata": {},
   "source": [
    "<font size = 3> In order to receive a point for a question, both boxes must contain correct answers."
   ]
  },
  {
   "cell_type": "markdown",
   "id": "4eb105e3",
   "metadata": {},
   "source": [
    "## Part 1"
   ]
  },
  {
   "cell_type": "markdown",
   "id": "3a881e30",
   "metadata": {},
   "source": [
    "1-1 Use Pandas to read the `starbucks` dataset from `starbucks.csv` into a DataFrame."
   ]
  },
  {
   "cell_type": "code",
   "execution_count": null,
   "id": "16ba2271",
   "metadata": {},
   "outputs": [],
   "source": []
  },
  {
   "cell_type": "markdown",
   "id": "0d5ba1b1",
   "metadata": {},
   "source": [
    "1-2 Use Pandas to figure out how many columns and rows the DF has."
   ]
  },
  {
   "cell_type": "code",
   "execution_count": null,
   "id": "da8180a3",
   "metadata": {},
   "outputs": [],
   "source": [
    "#Write your code here:\n",
    "\n"
   ]
  },
  {
   "cell_type": "markdown",
   "id": "64ea72a2",
   "metadata": {},
   "source": [
    "number of columns is ....."
   ]
  },
  {
   "cell_type": "markdown",
   "id": "aabb113c",
   "metadata": {},
   "source": [
    "number of rows is ....."
   ]
  },
  {
   "cell_type": "markdown",
   "id": "65fc136b",
   "metadata": {},
   "source": [
    "1-3 Write a code that inspects the first 19 rows in the first box below and a code that inspects the last 5 rows in the second box."
   ]
  },
  {
   "cell_type": "code",
   "execution_count": null,
   "id": "2cbaddd4",
   "metadata": {},
   "outputs": [],
   "source": []
  },
  {
   "cell_type": "code",
   "execution_count": null,
   "id": "a0f10177",
   "metadata": {},
   "outputs": [],
   "source": []
  },
  {
   "cell_type": "markdown",
   "id": "a8ec885c",
   "metadata": {},
   "source": [
    "1-4 Which columns (if any) have missing values?"
   ]
  },
  {
   "cell_type": "code",
   "execution_count": null,
   "id": "42d730ff",
   "metadata": {},
   "outputs": [],
   "source": [
    "#Write your code here:\n",
    "\n"
   ]
  },
  {
   "cell_type": "markdown",
   "id": "d5fab788",
   "metadata": {},
   "source": [
    "The columns which contain missing values are ....."
   ]
  },
  {
   "cell_type": "markdown",
   "id": "7b756bdb",
   "metadata": {},
   "source": [
    "1-5 How many floats columns are in the DataFrame?"
   ]
  },
  {
   "cell_type": "code",
   "execution_count": null,
   "id": "8a663396",
   "metadata": {},
   "outputs": [],
   "source": [
    "#Write your code here:\n",
    "\n"
   ]
  },
  {
   "cell_type": "markdown",
   "id": "65bc6a36",
   "metadata": {},
   "source": [
    "The number of floats columns is ......"
   ]
  },
  {
   "cell_type": "markdown",
   "id": "cfc3b2b6",
   "metadata": {},
   "source": [
    "## Part 2"
   ]
  },
  {
   "cell_type": "markdown",
   "id": "d733497e",
   "metadata": {},
   "source": [
    "**Use `starbucks.csv` to answer the following questions:**"
   ]
  },
  {
   "cell_type": "markdown",
   "id": "0611b225",
   "metadata": {},
   "source": [
    "2-1 Find the highest Calories in the DataFrame."
   ]
  },
  {
   "cell_type": "code",
   "execution_count": null,
   "id": "3a81ce3d",
   "metadata": {},
   "outputs": [],
   "source": [
    "#Write your code here:\n",
    "\n"
   ]
  },
  {
   "cell_type": "markdown",
   "id": "0fd63573",
   "metadata": {},
   "source": [
    "The highest calories in the DataFrame is ....."
   ]
  },
  {
   "cell_type": "markdown",
   "id": "e1a1eaa5",
   "metadata": {},
   "source": [
    "2-2 What is the average calories, rounded to one decimal digit, of the last 56 rows?"
   ]
  },
  {
   "cell_type": "code",
   "execution_count": null,
   "id": "05e003ab",
   "metadata": {},
   "outputs": [],
   "source": [
    "#Write your code here:\n",
    "\n"
   ]
  },
  {
   "cell_type": "markdown",
   "id": "0ea95680",
   "metadata": {},
   "source": [
    "The average calories of the last 56 rows is ....."
   ]
  },
  {
   "cell_type": "markdown",
   "id": "2bb8c88d",
   "metadata": {},
   "source": [
    "2-3 What is the sum of all the values in the `Total Carbohydrates` column?"
   ]
  },
  {
   "cell_type": "code",
   "execution_count": null,
   "id": "8bd3c575",
   "metadata": {},
   "outputs": [],
   "source": [
    "#Write your code here:\n",
    "\n"
   ]
  },
  {
   "cell_type": "markdown",
   "id": "f3502eb4",
   "metadata": {},
   "source": [
    "The sum of the values in the `Total Carbohydrates` column is ....."
   ]
  },
  {
   "cell_type": "markdown",
   "id": "52c2fc06",
   "metadata": {},
   "source": [
    "2-4 How many different beverage categories are in the dataset?"
   ]
  },
  {
   "cell_type": "code",
   "execution_count": null,
   "id": "e2eb1eea",
   "metadata": {},
   "outputs": [],
   "source": [
    "#Write your code here:\n",
    "\n"
   ]
  },
  {
   "cell_type": "markdown",
   "id": "a222d4f8",
   "metadata": {},
   "source": [
    "The dataframe has ..... beverage categories."
   ]
  },
  {
   "cell_type": "markdown",
   "id": "57f8f2bf",
   "metadata": {},
   "source": [
    "2-5 Which beverage has the most transactions? How many times does it appear in the dataset?"
   ]
  },
  {
   "cell_type": "code",
   "execution_count": null,
   "id": "94e397c4",
   "metadata": {},
   "outputs": [],
   "source": [
    "#Write your code here:\n",
    "\n"
   ]
  },
  {
   "cell_type": "markdown",
   "id": "a4631236",
   "metadata": {},
   "source": [
    "The name of the beverage which has the most transactions is ....."
   ]
  },
  {
   "cell_type": "markdown",
   "id": "64312330",
   "metadata": {},
   "source": [
    "It appears in the dataset ..... times."
   ]
  }
 ],
 "metadata": {
  "kernelspec": {
   "display_name": "Python 3 (ipykernel)",
   "language": "python",
   "name": "python3"
  },
  "language_info": {
   "codemirror_mode": {
    "name": "ipython",
    "version": 3
   },
   "file_extension": ".py",
   "mimetype": "text/x-python",
   "name": "python",
   "nbconvert_exporter": "python",
   "pygments_lexer": "ipython3",
   "version": "3.9.12"
  }
 },
 "nbformat": 4,
 "nbformat_minor": 5
}
