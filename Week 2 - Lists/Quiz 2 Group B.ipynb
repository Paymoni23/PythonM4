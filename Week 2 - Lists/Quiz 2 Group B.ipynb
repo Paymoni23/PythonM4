{
 "cells": [
  {
   "cell_type": "markdown",
   "id": "f19bd5ba",
   "metadata": {},
   "source": [
    "<font size = \"5\"> Quiz 2"
   ]
  },
  {
   "cell_type": "markdown",
   "id": "7b98f6b0",
   "metadata": {},
   "source": [
    "Answer the questions in the box provided. You need to run the code and show the output for the questions which require coding or type your answer inside the box for the fill-in-the-blank questions. This is an open-book quiz. You are allowed to consult any online resources, except for ChatGPT. Any misconduct or cheating will result in a score of 0. Good luck!"
   ]
  },
  {
   "cell_type": "markdown",
   "id": "b6e9e552",
   "metadata": {},
   "source": [
    "1. Give <b>two </b>examples, different from the ones mentioned in the class, of a situation in which you would use a list in a Python program."
   ]
  },
  {
   "cell_type": "markdown",
   "id": "59c0c6b0",
   "metadata": {},
   "source": [
    "1.1"
   ]
  },
  {
   "cell_type": "markdown",
   "id": "148dfa3a",
   "metadata": {},
   "source": [
    "1.2"
   ]
  },
  {
   "cell_type": "markdown",
   "id": "2875a9a1",
   "metadata": {},
   "source": [
    "2. Think of some modes of transportation that you use often, such as a bus or a BTS, and make a list that stores at least <b>three</b> examples. Use your list to print a series of statements about these items. Your output should look like: <br> <br>\n",
    "I always go home by BTS. <br>\n",
    "Sometimes I get home by bus if it's late. <br>\n"
   ]
  },
  {
   "cell_type": "code",
   "execution_count": null,
   "id": "e474fee1",
   "metadata": {},
   "outputs": [],
   "source": []
  },
  {
   "cell_type": "markdown",
   "id": "87f1512f",
   "metadata": {},
   "source": [
    "3. Here is a list of some countries in the world: <br>\n",
    "countries = [Thailand, France, Argentina, Australia] <br>"
   ]
  },
  {
   "cell_type": "markdown",
   "id": "185f9925",
   "metadata": {},
   "source": [
    "Note that the instructions given in 3.1-3.4 are done in succession."
   ]
  },
  {
   "cell_type": "markdown",
   "id": "8282d91d",
   "metadata": {},
   "source": [
    "3.1 Add one new Asian country to the beginning of the list."
   ]
  },
  {
   "cell_type": "code",
   "execution_count": null,
   "id": "37795a10",
   "metadata": {},
   "outputs": [],
   "source": []
  },
  {
   "cell_type": "markdown",
   "id": "f71bc90f",
   "metadata": {},
   "source": [
    "3.2 Add one European country to the middle of the list."
   ]
  },
  {
   "cell_type": "code",
   "execution_count": null,
   "id": "4be47882",
   "metadata": {},
   "outputs": [],
   "source": []
  },
  {
   "cell_type": "markdown",
   "id": "c4585cc4",
   "metadata": {},
   "source": [
    "3.3 Add another European country to the end of the list."
   ]
  },
  {
   "cell_type": "code",
   "execution_count": null,
   "id": "ed23ab27",
   "metadata": {},
   "outputs": [],
   "source": []
  },
  {
   "cell_type": "markdown",
   "id": "7d4242c2",
   "metadata": {},
   "source": [
    "3.4 Print out all of the countries in the list, line by line."
   ]
  },
  {
   "cell_type": "code",
   "execution_count": null,
   "id": "b1a554b2",
   "metadata": {},
   "outputs": [],
   "source": []
  },
  {
   "cell_type": "markdown",
   "id": "cb303ac1",
   "metadata": {},
   "source": [
    "4. Create a list of at least five numbers and calculate the average of those numbers. For example, if your list contains the numbers 1, 2, 4, 5, 6; Your output should look like: <br>\n",
    "\n",
    "The numbers in my list are: 1, 2, 4, 5, 6 <br>\n",
    "The average is 3.6.\n",
    "\n",
    "<b> Do not access individual <b> elements in this question."
   ]
  },
  {
   "cell_type": "code",
   "execution_count": null,
   "id": "e68771e6",
   "metadata": {},
   "outputs": [],
   "source": []
  },
  {
   "cell_type": "markdown",
   "id": "38f86804",
   "metadata": {},
   "source": [
    "5. Start with the list from question 3.4, do the following:"
   ]
  },
  {
   "cell_type": "markdown",
   "id": "fbea942f",
   "metadata": {},
   "source": [
    "5.1 print out the slice which contains the first three countries in the list."
   ]
  },
  {
   "cell_type": "code",
   "execution_count": null,
   "id": "7232e883",
   "metadata": {},
   "outputs": [],
   "source": []
  },
  {
   "cell_type": "markdown",
   "id": "56831d35",
   "metadata": {},
   "source": [
    "5.2 print out the slice which contains the middle three countries in the list."
   ]
  },
  {
   "cell_type": "code",
   "execution_count": null,
   "id": "68dcef21",
   "metadata": {},
   "outputs": [],
   "source": []
  },
  {
   "cell_type": "markdown",
   "id": "6f6f9d1c",
   "metadata": {},
   "source": [
    "5.3 print out the slice which contains the last three countries of the list."
   ]
  },
  {
   "cell_type": "code",
   "execution_count": null,
   "id": "277396eb",
   "metadata": {},
   "outputs": [],
   "source": []
  },
  {
   "cell_type": "code",
   "execution_count": null,
   "id": "627cd867",
   "metadata": {},
   "outputs": [],
   "source": []
  }
 ],
 "metadata": {
  "kernelspec": {
   "display_name": "Python 3 (ipykernel)",
   "language": "python",
   "name": "python3"
  },
  "language_info": {
   "codemirror_mode": {
    "name": "ipython",
    "version": 3
   },
   "file_extension": ".py",
   "mimetype": "text/x-python",
   "name": "python",
   "nbconvert_exporter": "python",
   "pygments_lexer": "ipython3",
   "version": "3.9.12"
  }
 },
 "nbformat": 4,
 "nbformat_minor": 5
}
