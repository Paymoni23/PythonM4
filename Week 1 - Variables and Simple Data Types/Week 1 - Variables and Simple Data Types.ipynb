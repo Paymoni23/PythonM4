{
 "cells": [
  {
   "cell_type": "markdown",
   "id": "5cfb9296",
   "metadata": {},
   "source": [
    "<font size = \"5\">Computer Programming for Engineers I"
   ]
  },
  {
   "cell_type": "markdown",
   "id": "0009cf04",
   "metadata": {},
   "source": [
    "<font size = \"3\"> Variables and Simple Data Types"
   ]
  },
  {
   "cell_type": "markdown",
   "id": "062ded8b",
   "metadata": {},
   "source": [
    "In this chapter, you'll learn about the <b>different kinds</b> of data you can work with in your Python programs. You'll also learn how to use <b>variables</b> to represent data in your programs. "
   ]
  },
  {
   "cell_type": "markdown",
   "id": "83ab328e",
   "metadata": {},
   "source": [
    "<b> Printing simple messages"
   ]
  },
  {
   "cell_type": "code",
   "execution_count": null,
   "id": "3f496759",
   "metadata": {},
   "outputs": [],
   "source": [
    "print(\"Hello Python world!\")"
   ]
  },
  {
   "cell_type": "code",
   "execution_count": null,
   "id": "4194a478",
   "metadata": {},
   "outputs": [],
   "source": [
    "print(\"Hello Python world!\")\n",
    "print(\"Hello M.4 Students\")"
   ]
  },
  {
   "cell_type": "markdown",
   "id": "809a1e75",
   "metadata": {},
   "source": [
    "<u>Exercise"
   ]
  },
  {
   "cell_type": "markdown",
   "id": "9653594c",
   "metadata": {},
   "source": [
    "Write a python program to print out your first name, last name, nickname, age, and phone number line by line."
   ]
  },
  {
   "cell_type": "code",
   "execution_count": null,
   "id": "60d5d4bd",
   "metadata": {},
   "outputs": [],
   "source": []
  },
  {
   "cell_type": "markdown",
   "id": "d698d707",
   "metadata": {},
   "source": [
    "Write a python program to print out the following output: <br>\n",
    "1<br>\n",
    "12<br>\n",
    "123<br>\n",
    "1234<br>\n",
    "12345<br>\n",
    "123456<br>\n",
    "1234567<br>\n"
   ]
  },
  {
   "cell_type": "code",
   "execution_count": null,
   "id": "fb9c493a",
   "metadata": {},
   "outputs": [],
   "source": []
  },
  {
   "cell_type": "markdown",
   "id": "82cea343",
   "metadata": {},
   "source": [
    "<b>Variables"
   ]
  },
  {
   "cell_type": "code",
   "execution_count": null,
   "id": "575e00ab",
   "metadata": {},
   "outputs": [],
   "source": [
    "message = \"Hello Python world!\"\n",
    "print(message)"
   ]
  },
  {
   "cell_type": "code",
   "execution_count": null,
   "id": "1422c0ef",
   "metadata": {},
   "outputs": [],
   "source": [
    "message = \"Hello Python world!\"\n",
    "print(message)\n",
    "\n",
    "message = \"Introduction to Python world!\"\n",
    "print(message)"
   ]
  },
  {
   "cell_type": "markdown",
   "id": "c4a8ade9",
   "metadata": {},
   "source": [
    "<u>Naming and Using Variables</u>\n",
    "\n",
    "- Variable names can contain only <b>letters, numbers, and underscores</b>. They can start with a letter or an underscore, but not with a number. For instance, you can call a variable <i>message_1</i> but not <i>1_message</i>.\n",
    "- Spaces are <b>not</b> allowed in variable names, but underscores can be used to separate words in variable names. For example, <i>greeting_message</i> works, but <i>greeting message</i> will cause an error.\n",
    "- Avoid using Python keywords and function names as variable names; that is, do not use words that Python has reserved for a particular programmatic purpose, such as the word <i>print</i>.\n",
    "- Variable names should be <b>short and descriptive</b>. For example, <i>name</i> is better than <i>n</i>, <i>student_name</i> is better than <i>s_n</i>, and <i>name_length</i> is better than <i>length_of_persons_name</i>.\n"
   ]
  },
  {
   "cell_type": "markdown",
   "id": "9e052625",
   "metadata": {},
   "source": [
    "<u>Avoiding Name Errors When Using Variables</u>\n"
   ]
  },
  {
   "cell_type": "code",
   "execution_count": null,
   "id": "d18c0c6f",
   "metadata": {},
   "outputs": [],
   "source": [
    "message = \"Hello, M.4 Engineering Students!\"\n",
    "print(mesage)"
   ]
  },
  {
   "cell_type": "code",
   "execution_count": null,
   "id": "4c728400",
   "metadata": {},
   "outputs": [],
   "source": [
    "mesage = \"Hello, M.4 Engineering Students!\"\n",
    "print(mesage)"
   ]
  },
  {
   "cell_type": "markdown",
   "id": "5b2b4d40",
   "metadata": {},
   "source": [
    "<u>Exercise</u>"
   ]
  },
  {
   "cell_type": "markdown",
   "id": "c4a1e791",
   "metadata": {},
   "source": [
    "1-1 Assign a message to a variable, and then print that message."
   ]
  },
  {
   "cell_type": "code",
   "execution_count": null,
   "id": "92ae4011",
   "metadata": {},
   "outputs": [],
   "source": []
  },
  {
   "cell_type": "markdown",
   "id": "2540b1cc",
   "metadata": {},
   "source": [
    "1-2 Assign a message to a variable, and print that message. Then, change the value of the variable to a new message, and print the new message."
   ]
  },
  {
   "cell_type": "code",
   "execution_count": null,
   "id": "91fbd75c",
   "metadata": {},
   "outputs": [],
   "source": []
  },
  {
   "cell_type": "markdown",
   "id": "dd413f15",
   "metadata": {},
   "source": [
    "<b>Strings</b>"
   ]
  },
  {
   "cell_type": "markdown",
   "id": "3ca7fb9a",
   "metadata": {},
   "source": [
    "A string is a series of <b>characters</b>. Anything inside the <b>quotes</b> is considered a string in Python. You can use single (') or double (\") quotes around your strings like this:"
   ]
  },
  {
   "cell_type": "code",
   "execution_count": null,
   "id": "6ad55b2b",
   "metadata": {},
   "outputs": [],
   "source": [
    "\"This is a string\""
   ]
  },
  {
   "cell_type": "code",
   "execution_count": null,
   "id": "7ef3fe61",
   "metadata": {},
   "outputs": [],
   "source": [
    "'This is also a string'"
   ]
  },
  {
   "cell_type": "markdown",
   "id": "4a1877ed",
   "metadata": {},
   "source": [
    "<u>Changing Case in a String with Methods</u>"
   ]
  },
  {
   "cell_type": "code",
   "execution_count": null,
   "id": "b095cc87",
   "metadata": {},
   "outputs": [],
   "source": [
    "name = \"phatsakorn sangsukiam\"\n",
    "print(name.title())"
   ]
  },
  {
   "cell_type": "code",
   "execution_count": null,
   "id": "5f27f897",
   "metadata": {},
   "outputs": [],
   "source": [
    "print(name.upper())\n",
    "print(name.lower())"
   ]
  },
  {
   "cell_type": "markdown",
   "id": "2a9cba64",
   "metadata": {},
   "source": [
    "<u>Using Variables in Strings</u>"
   ]
  },
  {
   "cell_type": "code",
   "execution_count": null,
   "id": "75074053",
   "metadata": {},
   "outputs": [],
   "source": [
    "first_name = \"Phatsakorn\"\n",
    "last_name = \"Sangsukiam\"\n",
    "full_name = first_name + \" \" + last_name\n",
    "print(full_name)"
   ]
  },
  {
   "cell_type": "markdown",
   "id": "3399f8e6",
   "metadata": {},
   "source": [
    "<u>Adding Whitespace to Strings with Tabs or Newlines</u>"
   ]
  },
  {
   "cell_type": "code",
   "execution_count": null,
   "id": "c00a998a",
   "metadata": {},
   "outputs": [],
   "source": [
    "print(\"Python\")\n",
    "print(\"\\tPython\")"
   ]
  },
  {
   "cell_type": "code",
   "execution_count": null,
   "id": "f66146d0",
   "metadata": {},
   "outputs": [],
   "source": [
    "print(\"Languages:\\nPython\\nC\\nJavascript\")"
   ]
  },
  {
   "cell_type": "code",
   "execution_count": null,
   "id": "3e0d1c1a",
   "metadata": {},
   "outputs": [],
   "source": [
    "print(\"Languages:\")\n",
    "print(\"Python\")\n",
    "print(\"C\")\n",
    "print(\"Javascript\")"
   ]
  },
  {
   "cell_type": "markdown",
   "id": "c80883e9",
   "metadata": {},
   "source": [
    "<u>Avoiding Syntax Errors with Strings</u>"
   ]
  },
  {
   "cell_type": "code",
   "execution_count": null,
   "id": "f60e8e10",
   "metadata": {},
   "outputs": [],
   "source": [
    "message = \"One of Python's strengths is its diverse community.\"\n",
    "print(message)"
   ]
  },
  {
   "cell_type": "code",
   "execution_count": null,
   "id": "cf75945a",
   "metadata": {},
   "outputs": [],
   "source": [
    "message = 'One of Python's strengths is its diverse community.'\n",
    "print(message)"
   ]
  },
  {
   "cell_type": "markdown",
   "id": "08c2567d",
   "metadata": {},
   "source": [
    "<u> Exercise </u>"
   ]
  },
  {
   "cell_type": "markdown",
   "id": "102508bb",
   "metadata": {},
   "source": [
    "1-3 Use a variable to represent a person's name, and print a message to that person. Your message should be simple, such as, \"Hello Eric, would you like to learn some Python today?\" "
   ]
  },
  {
   "cell_type": "code",
   "execution_count": null,
   "id": "2ea32389",
   "metadata": {},
   "outputs": [],
   "source": []
  },
  {
   "cell_type": "markdown",
   "id": "0ee8de97",
   "metadata": {},
   "source": [
    "1-4 Use a variable to represent a person's name, and then print that person's name in lowercase, uppercase and title case."
   ]
  },
  {
   "cell_type": "code",
   "execution_count": null,
   "id": "b5a24e59",
   "metadata": {},
   "outputs": [],
   "source": []
  },
  {
   "cell_type": "markdown",
   "id": "8428c131",
   "metadata": {},
   "source": [
    "1-5 Find a quote from a famous person you admire. Print the quote and the name of its author. Your output should look something like the following, including the quotation marks:\n",
    "\n",
    "<i> Albert Einstein once said, \"A person who never made a mistake never tried anything new.\"</i>"
   ]
  },
  {
   "cell_type": "code",
   "execution_count": null,
   "id": "49c7b5d4",
   "metadata": {},
   "outputs": [],
   "source": []
  },
  {
   "cell_type": "markdown",
   "id": "c765807d",
   "metadata": {},
   "source": [
    "1-6 Repeat exercise 1-5, but this time, represent the famous person's name using a variable called <i>famous_person</i>. Then, compose your message and represent it with a new variable called <i>message</i>. Print your message."
   ]
  },
  {
   "cell_type": "code",
   "execution_count": null,
   "id": "f3817b66",
   "metadata": {},
   "outputs": [],
   "source": []
  },
  {
   "cell_type": "markdown",
   "id": "eb5a2b52",
   "metadata": {},
   "source": [
    "<b> Numbers"
   ]
  },
  {
   "cell_type": "markdown",
   "id": "79c2ae03",
   "metadata": {},
   "source": [
    "Numbers are used quite often in programming to keep scores in games, represent data in visualizations, store information in web applications, and so on. "
   ]
  },
  {
   "cell_type": "markdown",
   "id": "7079932e",
   "metadata": {},
   "source": [
    "<u>Integers"
   ]
  },
  {
   "cell_type": "code",
   "execution_count": null,
   "id": "a3302071",
   "metadata": {},
   "outputs": [],
   "source": [
    "2 + 3"
   ]
  },
  {
   "cell_type": "code",
   "execution_count": null,
   "id": "48a7c46d",
   "metadata": {},
   "outputs": [],
   "source": [
    "3 - 2"
   ]
  },
  {
   "cell_type": "code",
   "execution_count": null,
   "id": "469f2497",
   "metadata": {},
   "outputs": [],
   "source": [
    "2 * 3"
   ]
  },
  {
   "cell_type": "code",
   "execution_count": null,
   "id": "9c9e1283",
   "metadata": {},
   "outputs": [],
   "source": [
    "3 / 2"
   ]
  },
  {
   "cell_type": "code",
   "execution_count": null,
   "id": "1d308d3a",
   "metadata": {},
   "outputs": [],
   "source": [
    "3 ** 2"
   ]
  },
  {
   "cell_type": "code",
   "execution_count": null,
   "id": "b03437c2",
   "metadata": {},
   "outputs": [],
   "source": [
    "2 + 3 * 4"
   ]
  },
  {
   "cell_type": "code",
   "execution_count": null,
   "id": "1104cc97",
   "metadata": {},
   "outputs": [],
   "source": [
    "(2 + 3) * 4"
   ]
  },
  {
   "cell_type": "markdown",
   "id": "bf30a2c3",
   "metadata": {},
   "source": [
    "<u>Floats</u>"
   ]
  },
  {
   "cell_type": "code",
   "execution_count": null,
   "id": "7dfefacd",
   "metadata": {},
   "outputs": [],
   "source": [
    "0.1 + 0.1"
   ]
  },
  {
   "cell_type": "code",
   "execution_count": null,
   "id": "5c08d3c8",
   "metadata": {},
   "outputs": [],
   "source": [
    "0.2 + 0.2"
   ]
  },
  {
   "cell_type": "code",
   "execution_count": null,
   "id": "67414559",
   "metadata": {},
   "outputs": [],
   "source": [
    "2 * 0.1"
   ]
  },
  {
   "cell_type": "code",
   "execution_count": null,
   "id": "6a55471e",
   "metadata": {},
   "outputs": [],
   "source": [
    "2 * 0.2"
   ]
  },
  {
   "cell_type": "markdown",
   "id": "fb2fdb3c",
   "metadata": {},
   "source": [
    "<u>Integers and Floats</u>"
   ]
  },
  {
   "cell_type": "code",
   "execution_count": null,
   "id": "8be46086",
   "metadata": {},
   "outputs": [],
   "source": [
    "4/2"
   ]
  },
  {
   "cell_type": "code",
   "execution_count": null,
   "id": "151a665e",
   "metadata": {},
   "outputs": [],
   "source": [
    "1 + 2.0"
   ]
  },
  {
   "cell_type": "code",
   "execution_count": null,
   "id": "b9c8a979",
   "metadata": {},
   "outputs": [],
   "source": [
    "2 * 3.0"
   ]
  },
  {
   "cell_type": "code",
   "execution_count": null,
   "id": "aa28da3d",
   "metadata": {},
   "outputs": [],
   "source": [
    "3.0 ** 2"
   ]
  },
  {
   "cell_type": "markdown",
   "id": "db1bc033",
   "metadata": {},
   "source": [
    "<u>Multiple Assignment</u>"
   ]
  },
  {
   "cell_type": "code",
   "execution_count": null,
   "id": "e3a70060",
   "metadata": {},
   "outputs": [],
   "source": [
    "x, y, z = 1, 2, 3\n",
    "print(x)\n",
    "print(y)\n",
    "print(z)"
   ]
  },
  {
   "cell_type": "markdown",
   "id": "4beb3f95",
   "metadata": {},
   "source": [
    "<u>Exercise"
   ]
  },
  {
   "cell_type": "markdown",
   "id": "b0785e0a",
   "metadata": {},
   "source": [
    "1-8 Write addition, subtraction, multiplication and division operations that each result in the number 8 in the same code block. Be sure to enclose your operations in <i>print()</i> calls to see the results. You should create four lines that look like this: <br> \n",
    "$\\;\\;\\;\\;\\;\\;$ <i>print(5 + 3)</i> <br> \n",
    "Your output should simply be four lines with the number 8 appearing once on each line.\n"
   ]
  },
  {
   "cell_type": "code",
   "execution_count": null,
   "id": "e79f1b34",
   "metadata": {},
   "outputs": [],
   "source": []
  },
  {
   "cell_type": "markdown",
   "id": "d58fe989",
   "metadata": {},
   "source": [
    "1-9 Use a variable to represent your favorite number. Then, using that variable, create a message that reveals your favorite number. Print that message."
   ]
  },
  {
   "cell_type": "code",
   "execution_count": null,
   "id": "f21d348f",
   "metadata": {},
   "outputs": [],
   "source": []
  },
  {
   "cell_type": "markdown",
   "id": "da526bf9",
   "metadata": {},
   "source": [
    "1-10 Temperature Conversion <br>\n",
    "Use a variable to represent a temperature (in Celsius), then convert it into Kelvin and Fahrenheit using the following formulas: <br>\n",
    "K = C + 273.15 <br>\n",
    "F = (1.8 x C) + 32"
   ]
  },
  {
   "cell_type": "markdown",
   "id": "4850728e",
   "metadata": {},
   "source": [
    "<b>Type Conversions"
   ]
  },
  {
   "cell_type": "code",
   "execution_count": null,
   "id": "6ae62cfa",
   "metadata": {},
   "outputs": [],
   "source": [
    "x = int(9.98)\n",
    "print(x)\n",
    "type(x)"
   ]
  },
  {
   "cell_type": "code",
   "execution_count": null,
   "id": "bdffedcf",
   "metadata": {},
   "outputs": [],
   "source": [
    "x = float(\"45.162\")\n",
    "print(x)\n",
    "type(x)"
   ]
  },
  {
   "cell_type": "code",
   "execution_count": null,
   "id": "cbfb2e5f",
   "metadata": {},
   "outputs": [],
   "source": [
    "x = str(123.45)\n",
    "print(x)\n",
    "type(x)"
   ]
  },
  {
   "cell_type": "markdown",
   "id": "0168b64d",
   "metadata": {},
   "source": [
    "<u>Comments"
   ]
  },
  {
   "cell_type": "code",
   "execution_count": null,
   "id": "89ea1db4",
   "metadata": {},
   "outputs": [],
   "source": [
    "#Say hello to everyone.\n",
    "print(\"Hello Python people!\")"
   ]
  },
  {
   "cell_type": "code",
   "execution_count": null,
   "id": "d25de3ef",
   "metadata": {},
   "outputs": [],
   "source": []
  }
 ],
 "metadata": {
  "kernelspec": {
   "display_name": "Python 3 (ipykernel)",
   "language": "python",
   "name": "python3"
  },
  "language_info": {
   "codemirror_mode": {
    "name": "ipython",
    "version": 3
   },
   "file_extension": ".py",
   "mimetype": "text/x-python",
   "name": "python",
   "nbconvert_exporter": "python",
   "pygments_lexer": "ipython3",
   "version": "3.9.12"
  }
 },
 "nbformat": 4,
 "nbformat_minor": 5
}
