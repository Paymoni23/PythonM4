{
  "cells": [
    {
      "cell_type": "markdown",
      "id": "32ecd5bb",
      "metadata": {
        "id": "32ecd5bb"
      },
      "source": [
        "<font size = \"5\"> Quiz 3"
      ]
    },
    {
      "cell_type": "markdown",
      "id": "f68cb9ee",
      "metadata": {
        "id": "f68cb9ee"
      },
      "source": [
        "Answer the questions in the box provided. You need to run the code and show the output for the questions which require coding or type your answer inside the box for the fill-in-the-blank questions. This is an open-book quiz. You are allowed to consult any online resources, except for ChatGPT. Any misconduct or cheating will result in a score of 0. Good luck!"
      ]
    },
    {
      "cell_type": "markdown",
      "id": "c55462f6",
      "metadata": {
        "id": "c55462f6"
      },
      "source": [
        "1. What is a tuple representation of the dimensions of a 1000 x 5 matrix?"
      ]
    },
    {
      "cell_type": "code",
      "execution_count": null,
      "id": "11e9ac45",
      "metadata": {
        "id": "11e9ac45"
      },
      "outputs": [],
      "source": [
        "1000,5"
      ]
    },
    {
      "cell_type": "markdown",
      "id": "10fbf503",
      "metadata": {
        "id": "10fbf503"
      },
      "source": [
        "2. This question uses the following \"peak\" dictionary. Start this question by running the cell below."
      ]
    },
    {
      "cell_type": "code",
      "execution_count": null,
      "id": "7bfd2c0f",
      "metadata": {
        "id": "7bfd2c0f"
      },
      "outputs": [],
      "source": [
        "peak = {\n",
        "    \"name\": \"Doi Tung\",\n",
        "    \"height\": 14265,\n",
        "    \"conquerers\": [],\n",
        "    \"cell_reception\": {\n",
        "        \"True\": \"no reception\",\n",
        "        \"AIS\": \"poor\"\n",
        "    }\n",
        "}"
      ]
    },
    {
      "cell_type": "markdown",
      "id": "f376c027",
      "metadata": {
        "id": "f376c027"
      },
      "source": [
        "2-1 How many key-value pairs do the <i> peak </i> dictionary contain?"
      ]
    },
    {
      "cell_type": "code",
      "execution_count": null,
      "id": "1a1aa4dc",
      "metadata": {
        "id": "1a1aa4dc",
        "colab": {
          "base_uri": "https://localhost:8080/",
          "height": 181
        },
        "outputId": "f94b857e-6ebf-41ae-cd61-e211132fedf0"
      },
      "outputs": [
        {
          "output_type": "error",
          "ename": "NameError",
          "evalue": "name 'peak' is not defined",
          "traceback": [
            "\u001b[0;31m---------------------------------------------------------------------------\u001b[0m",
            "\u001b[0;31mNameError\u001b[0m                                 Traceback (most recent call last)",
            "\u001b[0;32m<ipython-input-4-600e784abb75>\u001b[0m in \u001b[0;36m<cell line: 1>\u001b[0;34m()\u001b[0m\n\u001b[0;32m----> 1\u001b[0;31m \u001b[0mprint\u001b[0m\u001b[0;34m(\u001b[0m\u001b[0mlen\u001b[0m\u001b[0;34m(\u001b[0m\u001b[0mpeak\u001b[0m\u001b[0;34m)\u001b[0m\u001b[0;34m)\u001b[0m\u001b[0;34m\u001b[0m\u001b[0;34m\u001b[0m\u001b[0m\n\u001b[0m",
            "\u001b[0;31mNameError\u001b[0m: name 'peak' is not defined"
          ]
        }
      ],
      "source": [
        "print(len(peak)) #output=4"
      ]
    },
    {
      "cell_type": "markdown",
      "id": "44d69de6",
      "metadata": {
        "id": "44d69de6"
      },
      "source": [
        "2-2 Check if \"province\" is a key in the \"peak\" dictionary. If it is, print out the value associated with the \"province\" key. Otherwise, print out the message \"The key is not found.\""
      ]
    },
    {
      "cell_type": "code",
      "execution_count": null,
      "id": "6efa153a",
      "metadata": {
        "id": "6efa153a"
      },
      "outputs": [],
      "source": [
        "if \"province\" in peak:\n",
        "   print(peak[\"province\"])\n",
        "else:\n",
        "   print(\"The key is not found.\")"
      ]
    },
    {
      "cell_type": "markdown",
      "id": "12cd8545",
      "metadata": {
        "id": "12cd8545"
      },
      "source": [
        "2-3 FYI: Doi Tung is a point located on Daen Lao Range (ทิวเขาแดนลาว). Without touching the original variable declaration in the above cell, add a \"range\" key to peak and set it equal to \"Daen Lao Range\"."
      ]
    },
    {
      "cell_type": "code",
      "execution_count": null,
      "id": "85489e86",
      "metadata": {
        "id": "85489e86"
      },
      "outputs": [],
      "source": [
        "peak[\"range\"] = \"Daen Lao Range\""
      ]
    },
    {
      "cell_type": "markdown",
      "id": "faaa9a94",
      "metadata": {
        "id": "faaa9a94"
      },
      "source": [
        "2-4 Add a \"first_climbed\" key to the peak dictionary and set it equal to 1873."
      ]
    },
    {
      "cell_type": "code",
      "execution_count": null,
      "id": "75e66d68",
      "metadata": {
        "id": "75e66d68"
      },
      "outputs": [],
      "source": [
        "peak[\"first_climbed\"] = 1873"
      ]
    },
    {
      "cell_type": "markdown",
      "id": "b63096d4",
      "metadata": {
        "id": "b63096d4"
      },
      "source": [
        "2-5 Print out the value associated with the key \"name\"."
      ]
    },
    {
      "cell_type": "code",
      "execution_count": null,
      "id": "b491d210",
      "metadata": {
        "id": "b491d210"
      },
      "outputs": [],
      "source": [
        "print(peak[\"name\"])"
      ]
    },
    {
      "cell_type": "markdown",
      "id": "cf19ad62",
      "metadata": {
        "id": "cf19ad62"
      },
      "source": [
        "2-6 Whoops, there's a mistake with the peak \"height\". Update it to 14266."
      ]
    },
    {
      "cell_type": "code",
      "execution_count": null,
      "id": "40f7bae0",
      "metadata": {
        "id": "40f7bae0"
      },
      "outputs": [],
      "source": [
        "peak[\"height\"] = 14266"
      ]
    },
    {
      "cell_type": "markdown",
      "id": "01a0fd8d",
      "metadata": {
        "id": "01a0fd8d"
      },
      "source": [
        "2-7 Add a new phone carrier \"DTAC\" to the \"cell_reception\" dict and set it equal to \"good\".\n",
        "\n",
        "Hint: Notice that the string \"cell_reception\" is a key of the \"peak\" dict whose associated value is a dictionary."
      ]
    },
    {
      "cell_type": "code",
      "execution_count": null,
      "id": "e393f2fc",
      "metadata": {
        "id": "e393f2fc",
        "colab": {
          "base_uri": "https://localhost:8080/",
          "height": 181
        },
        "outputId": "5456bb13-70c6-4290-a4ab-0624dfa4b36a"
      },
      "outputs": [
        {
          "output_type": "error",
          "ename": "NameError",
          "evalue": "name 'peak' is not defined",
          "traceback": [
            "\u001b[0;31m---------------------------------------------------------------------------\u001b[0m",
            "\u001b[0;31mNameError\u001b[0m                                 Traceback (most recent call last)",
            "\u001b[0;32m<ipython-input-1-31010c8b3358>\u001b[0m in \u001b[0;36m<cell line: 1>\u001b[0;34m()\u001b[0m\n\u001b[0;32m----> 1\u001b[0;31m \u001b[0mpeak\u001b[0m\u001b[0;34m[\u001b[0m\u001b[0;34m\"cell_reception\"\u001b[0m\u001b[0;34m]\u001b[0m\u001b[0;34m[\u001b[0m\u001b[0;34m\"DTAC\"\u001b[0m\u001b[0;34m]\u001b[0m \u001b[0;34m=\u001b[0m \u001b[0;34m\"good\"\u001b[0m\u001b[0;34m\u001b[0m\u001b[0;34m\u001b[0m\u001b[0m\n\u001b[0m",
            "\u001b[0;31mNameError\u001b[0m: name 'peak' is not defined"
          ]
        }
      ],
      "source": [
        "peak[\"cell_reception\"][\"DTAC\"] = \"good\""
      ]
    },
    {
      "cell_type": "markdown",
      "id": "dcdb7635",
      "metadata": {
        "id": "dcdb7635"
      },
      "source": [
        "2-8 You just summited the peak! Add your name to the \"conquerers\" list using the insert() method."
      ]
    },
    {
      "cell_type": "code",
      "execution_count": null,
      "id": "4b9bbd0f",
      "metadata": {
        "id": "4b9bbd0f",
        "colab": {
          "base_uri": "https://localhost:8080/",
          "height": 181
        },
        "outputId": "520c4ae5-f528-4a30-dc97-c01c5b830532"
      },
      "outputs": [
        {
          "output_type": "error",
          "ename": "NameError",
          "evalue": "name 'peak' is not defined",
          "traceback": [
            "\u001b[0;31m---------------------------------------------------------------------------\u001b[0m",
            "\u001b[0;31mNameError\u001b[0m                                 Traceback (most recent call last)",
            "\u001b[0;32m<ipython-input-5-87d853ebc2f4>\u001b[0m in \u001b[0;36m<cell line: 1>\u001b[0;34m()\u001b[0m\n\u001b[0;32m----> 1\u001b[0;31m \u001b[0mpeak\u001b[0m\u001b[0;34m[\u001b[0m\u001b[0;34m\"conquerers\"\u001b[0m\u001b[0;34m]\u001b[0m\u001b[0;34m.\u001b[0m\u001b[0minsert\u001b[0m\u001b[0;34m(\u001b[0m\u001b[0;36m0\u001b[0m\u001b[0;34m,\u001b[0m \u001b[0;34m\"Boom\"\u001b[0m\u001b[0;34m)\u001b[0m\u001b[0;34m\u001b[0m\u001b[0;34m\u001b[0m\u001b[0m\n\u001b[0m",
            "\u001b[0;31mNameError\u001b[0m: name 'peak' is not defined"
          ]
        }
      ],
      "source": [
        "peak[\"conquerers\"].insert(0, \"Boom\")"
      ]
    },
    {
      "cell_type": "markdown",
      "id": "90a829bf",
      "metadata": {
        "id": "90a829bf"
      },
      "source": [
        "2-9 A huge meteor has sadly destroyed the peak. Write a code which empties out the entire dictionary and print out the emptied dictionary."
      ]
    },
    {
      "cell_type": "code",
      "execution_count": null,
      "id": "90c5df73",
      "metadata": {
        "id": "90c5df73"
      },
      "outputs": [],
      "source": [
        "peak.clear()"
      ]
    }
  ],
  "metadata": {
    "kernelspec": {
      "display_name": "Python 3 (ipykernel)",
      "language": "python",
      "name": "python3"
    },
    "language_info": {
      "codemirror_mode": {
        "name": "ipython",
        "version": 3
      },
      "file_extension": ".py",
      "mimetype": "text/x-python",
      "name": "python",
      "nbconvert_exporter": "python",
      "pygments_lexer": "ipython3",
      "version": "3.9.12"
    },
    "colab": {
      "provenance": []
    }
  },
  "nbformat": 4,
  "nbformat_minor": 5
}