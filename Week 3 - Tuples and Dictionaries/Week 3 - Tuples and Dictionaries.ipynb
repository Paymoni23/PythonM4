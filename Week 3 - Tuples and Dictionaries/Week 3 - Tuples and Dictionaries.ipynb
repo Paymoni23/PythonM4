{
 "cells": [
  {
   "cell_type": "markdown",
   "metadata": {},
   "source": [
    "<font size = \"5\">Computer Programming for Engineers "
   ]
  },
  {
   "cell_type": "markdown",
   "metadata": {},
   "source": [
    "<b><font size = \"3\"> Tuples"
   ]
  },
  {
   "cell_type": "markdown",
   "metadata": {},
   "source": [
    "Lists work well for storing collections of items that can change throughout the life of a program. However, sometimes you'll want to create a list of items which cannot change. <b> Tuples </b> allow you to do just that. Python refers to values that cannot change as <i> immutable </i>, and an immutable list is called a <i> tuple </i>."
   ]
  },
  {
   "cell_type": "markdown",
   "metadata": {},
   "source": [
    "<b> Defining a Tuple"
   ]
  },
  {
   "cell_type": "markdown",
   "metadata": {},
   "source": [
    "A tuple looks like a list except you use parentheses instead of square brackets. Once you define a tuple, you can access individual elements by using each item's index, just as you would for a list. "
   ]
  },
  {
   "cell_type": "markdown",
   "metadata": {},
   "source": [
    "For example, if we have a rectangle that should always be a certain size, we can ensure that its size doesn't change by putting the dimensions into a tuple."
   ]
  },
  {
   "cell_type": "code",
   "execution_count": 1,
   "metadata": {},
   "outputs": [
    {
     "name": "stdout",
     "output_type": "stream",
     "text": [
      "200\n",
      "50\n"
     ]
    }
   ],
   "source": [
    "dimensions = (200,50)\n",
    "\n",
    "print(dimensions[0])\n",
    "print(dimensions[1])"
   ]
  },
  {
   "cell_type": "code",
   "execution_count": null,
   "metadata": {},
   "outputs": [],
   "source": [
    "dimensions = (200,50)\n",
    "dimensions[0]=250"
   ]
  },
  {
   "cell_type": "markdown",
   "metadata": {},
   "source": [
    "<u>Exercise"
   ]
  },
  {
   "cell_type": "markdown",
   "metadata": {},
   "source": [
    "3-1 Which of the following is not true of tuples? <br><br>\n",
    "a. Tuples are ordered collections. <br>\n",
    "b. Tuples are indexed. <br>\n",
    "c. Tuples are mutable (We can change their content after creation). <br>\n",
    "d. Tuples can contain any of the Python data types."
   ]
  },
  {
   "cell_type": "markdown",
   "metadata": {},
   "source": [
    "3-2 Which of the following is a valid tuple? <br><br>\n",
    "a. [1, 2, 3] <br>\n",
    "b. (1, 2, 3) <br>\n",
    "c. {1, 2, 3}"
   ]
  },
  {
   "cell_type": "markdown",
   "metadata": {},
   "source": [
    "3-3 A buffet style restaurant offers only five basic foods. Think of five simple foods, and store them in a tuple. Print out each food that the restaurant offers. "
   ]
  },
  {
   "cell_type": "code",
   "execution_count": null,
   "metadata": {},
   "outputs": [],
   "source": []
  },
  {
   "cell_type": "markdown",
   "metadata": {},
   "source": [
    "Then, try to modify one of the items, and make sure that Python rejects the change. "
   ]
  },
  {
   "cell_type": "code",
   "execution_count": null,
   "metadata": {},
   "outputs": [],
   "source": []
  },
  {
   "cell_type": "markdown",
   "metadata": {},
   "source": [
    "<b><font size = \"3\"> Dictionaries"
   ]
  },
  {
   "cell_type": "markdown",
   "metadata": {},
   "source": [
    "Think of a movie you recently watched. How would we store many pieces of information about a single movie which can include title, year of release, IMDb score, genre, director, etc.?"
   ]
  },
  {
   "cell_type": "markdown",
   "metadata": {},
   "source": [
    "One awkward way to do this is to use separate variables:"
   ]
  },
  {
   "cell_type": "code",
   "execution_count": 5,
   "metadata": {},
   "outputs": [],
   "source": [
    "title = \"Saw X\"\n",
    "year = 2023\n",
    "imdb = 6.6\n",
    "genre = \"Horror\"\n",
    "director = \"Kevin Greutert\"\n",
    "\n",
    "#Why would this method of storing information not work in practice?"
   ]
  },
  {
   "cell_type": "markdown",
   "metadata": {},
   "source": [
    "A cleaner way to store this piece of information is to group this information together. Let's try using a list."
   ]
  },
  {
   "cell_type": "code",
   "execution_count": 3,
   "metadata": {},
   "outputs": [],
   "source": [
    "movie = [\"Saw X\", 2023, 6.6, \"Horror\", \"Kevin Greutert\"]"
   ]
  },
  {
   "cell_type": "code",
   "execution_count": 2,
   "metadata": {},
   "outputs": [],
   "source": [
    "movie = {\"title\": \"Saw X\",\n",
    "        \"year\": 2023,\n",
    "        \"imdb\": 6.6,\n",
    "        \"genre\": \"Horror\",\n",
    "        \"director\": \"Kevin Greutert\"}"
   ]
  },
  {
   "cell_type": "markdown",
   "metadata": {},
   "source": [
    "Dictionaries allow us to store information in <b> key-value pairs </b>. Each <i> key </i> is connected to a value, and you can use a key to access the value associated with that key. So the data is all grouped together."
   ]
  },
  {
   "cell_type": "markdown",
   "metadata": {},
   "source": [
    "Lists use index-value pairs while dictionaries use key-value pairs (ordering is not significant)."
   ]
  },
  {
   "cell_type": "markdown",
   "metadata": {},
   "source": [
    "<b> Creating Your Own Dictionary"
   ]
  },
  {
   "cell_type": "markdown",
   "metadata": {},
   "source": [
    "Dictionaries are <b> indexed by keys </b> rather than a numerical index. <br>\n",
    "- A dictionary holds key-value pairs.\n",
    "- Keys can be any immutable types: numbers, strings, etc.\n",
    "- Values can be whatever you want!"
   ]
  },
  {
   "cell_type": "markdown",
   "metadata": {},
   "source": [
    "<b> Working with Dictionaries"
   ]
  },
  {
   "cell_type": "code",
   "execution_count": 9,
   "metadata": {},
   "outputs": [],
   "source": [
    "order = {\"cost\": 3.5, \"quantity\": 12}"
   ]
  },
  {
   "cell_type": "markdown",
   "metadata": {},
   "source": [
    "A <i> key-value pair </i> is a set of values associated with each other. When you provide a key, Python returns the value associated with that key. Every key is connected to its value by a <b> colon </b>, and individual key-value pairs are separated by <b> commas </b>. You can store as many key-value pairs as you want in a dictionary."
   ]
  },
  {
   "cell_type": "markdown",
   "metadata": {},
   "source": [
    "<u>Exercise "
   ]
  },
  {
   "cell_type": "markdown",
   "metadata": {},
   "source": [
    " 3-5 Which of the following answers creates a valid Python dictionary? <br><br>\n",
    " a. [\"age\": 19, \"city\": \"Bangkok\"] <br>\n",
    " b. (\"age\": 19, \"city\": \"Bangkok\") <br>\n",
    " c. {\"age\": 19, \"city\": \"Bangkok\"} <br>\n",
    " d. {\"age\", 19, \"city\", \"Bangkok\"} <br>"
   ]
  },
  {
   "cell_type": "markdown",
   "metadata": {},
   "source": [
    "3-6 Which of the following answers would be an INVALID dictionary key? <br><br>\n",
    "a. \"hello world\" <br>\n",
    "b. 55.6 <br>\n",
    "c. -1 <br>\n",
    "d. [1, 2]"
   ]
  },
  {
   "cell_type": "markdown",
   "metadata": {},
   "source": [
    "3-7 Create your own dictionary which stores information about a movie you recently watched. Refer to the above example."
   ]
  },
  {
   "cell_type": "code",
   "execution_count": null,
   "metadata": {},
   "outputs": [],
   "source": []
  },
  {
   "cell_type": "markdown",
   "metadata": {},
   "source": [
    "<b> Accessing Values in a Dictionary"
   ]
  },
  {
   "cell_type": "markdown",
   "metadata": {},
   "source": [
    "To get the value associated with a key, give the name of the dictionary and then place the key inside a set of square brackets: <b> dict[key] </b>"
   ]
  },
  {
   "cell_type": "code",
   "execution_count": 12,
   "metadata": {},
   "outputs": [
    {
     "data": {
      "text/plain": [
       "12"
      ]
     },
     "execution_count": 12,
     "metadata": {},
     "output_type": "execute_result"
    }
   ],
   "source": [
    "order = {\"cost\": 3.5, \"quantity\": 12}\n",
    "order[\"quantity\"]"
   ]
  },
  {
   "cell_type": "code",
   "execution_count": 13,
   "metadata": {},
   "outputs": [
    {
     "ename": "KeyError",
     "evalue": "'chicken'",
     "output_type": "error",
     "traceback": [
      "\u001b[0;31m---------------------------------------------------------------------------\u001b[0m",
      "\u001b[0;31mKeyError\u001b[0m                                  Traceback (most recent call last)",
      "\u001b[0;32m<ipython-input-13-68f073a7eed5>\u001b[0m in \u001b[0;36m<module>\u001b[0;34m\u001b[0m\n\u001b[1;32m      1\u001b[0m \u001b[0morder\u001b[0m \u001b[0;34m=\u001b[0m \u001b[0;34m{\u001b[0m\u001b[0;34m\"cost\"\u001b[0m\u001b[0;34m:\u001b[0m \u001b[0;36m3.5\u001b[0m\u001b[0;34m,\u001b[0m \u001b[0;34m\"quantity\"\u001b[0m\u001b[0;34m:\u001b[0m \u001b[0;36m12\u001b[0m\u001b[0;34m}\u001b[0m\u001b[0;34m\u001b[0m\u001b[0;34m\u001b[0m\u001b[0m\n\u001b[0;32m----> 2\u001b[0;31m \u001b[0morder\u001b[0m\u001b[0;34m[\u001b[0m\u001b[0;34m\"chicken\"\u001b[0m\u001b[0;34m]\u001b[0m\u001b[0;34m\u001b[0m\u001b[0;34m\u001b[0m\u001b[0m\n\u001b[0m",
      "\u001b[0;31mKeyError\u001b[0m: 'chicken'"
     ]
    }
   ],
   "source": [
    "order = {\"cost\": 3.5, \"quantity\": 12}\n",
    "order[\"chicken\"]"
   ]
  },
  {
   "cell_type": "code",
   "execution_count": 14,
   "metadata": {},
   "outputs": [
    {
     "ename": "KeyError",
     "evalue": "'Quantity'",
     "output_type": "error",
     "traceback": [
      "\u001b[0;31m---------------------------------------------------------------------------\u001b[0m",
      "\u001b[0;31mKeyError\u001b[0m                                  Traceback (most recent call last)",
      "\u001b[0;32m<ipython-input-14-fa61b0f5d496>\u001b[0m in \u001b[0;36m<module>\u001b[0;34m\u001b[0m\n\u001b[1;32m      1\u001b[0m \u001b[0morder\u001b[0m \u001b[0;34m=\u001b[0m \u001b[0;34m{\u001b[0m\u001b[0;34m\"cost\"\u001b[0m\u001b[0;34m:\u001b[0m \u001b[0;36m3.5\u001b[0m\u001b[0;34m,\u001b[0m \u001b[0;34m\"quantity\"\u001b[0m\u001b[0;34m:\u001b[0m \u001b[0;36m12\u001b[0m\u001b[0;34m}\u001b[0m\u001b[0;34m\u001b[0m\u001b[0;34m\u001b[0m\u001b[0m\n\u001b[0;32m----> 2\u001b[0;31m \u001b[0morder\u001b[0m\u001b[0;34m[\u001b[0m\u001b[0;34m\"Quantity\"\u001b[0m\u001b[0;34m]\u001b[0m\u001b[0;34m\u001b[0m\u001b[0;34m\u001b[0m\u001b[0m\n\u001b[0m",
      "\u001b[0;31mKeyError\u001b[0m: 'Quantity'"
     ]
    }
   ],
   "source": [
    "order = {\"cost\": 3.5, \"quantity\": 12}\n",
    "order[\"Quantity\"]"
   ]
  },
  {
   "cell_type": "markdown",
   "metadata": {},
   "source": [
    "3-8 Given this dictionary: scores = {\"harry\": 99, \"frodo\": 78, \"arya\": 88} <br>\n",
    "Which of the following answers would result in 78? <br><br>\n",
    "a. scores.\"frodo\" <br>\n",
    "b. scores(\"frodo\") <br>\n",
    "c. scores[1] <br>\n",
    "d. scores[\"frodo\"]"
   ]
  },
  {
   "cell_type": "markdown",
   "metadata": {},
   "source": [
    "<b> Adding and Updating Data in Dictionaries"
   ]
  },
  {
   "cell_type": "markdown",
   "metadata": {},
   "source": [
    "Dictionaries are dynamic structures, and you can add new key-value pairs to a dictionary at any time. To add a new key-value pair, you would give the name of the dictionary followed by the new key in square brackets along with the new value: <b> dict[key] = new value <b>."
   ]
  },
  {
   "cell_type": "code",
   "execution_count": 15,
   "metadata": {},
   "outputs": [
    {
     "name": "stdout",
     "output_type": "stream",
     "text": [
      "{'cost': 4.75, 'quantity': 12}\n"
     ]
    }
   ],
   "source": [
    "order = {\"cost\": 3.5, \"quantity\": 12}\n",
    "\n",
    "order[\"cost\"] = 4.75\n",
    "print(order)"
   ]
  },
  {
   "cell_type": "code",
   "execution_count": 16,
   "metadata": {},
   "outputs": [
    {
     "name": "stdout",
     "output_type": "stream",
     "text": [
      "{'cost': 3.5, 'quantity': 12, 'shipping': 8.99}\n"
     ]
    }
   ],
   "source": [
    "order = {\"cost\": 3.5, \"quantity\": 12}\n",
    "\n",
    "order[\"shipping\"] = 8.99\n",
    "print(order)"
   ]
  },
  {
   "cell_type": "markdown",
   "metadata": {},
   "source": [
    "<b> Checking Whether a Particular Key Exists in a Dictionary"
   ]
  },
  {
   "cell_type": "markdown",
   "metadata": {},
   "source": [
    "Using keys in square brackets to retrieve the value you're interested in from a dictionary might cause a problem if the key you ask for doesn't exist, you'll get an error."
   ]
  },
  {
   "cell_type": "code",
   "execution_count": 17,
   "metadata": {},
   "outputs": [
    {
     "ename": "KeyError",
     "evalue": "'chicken'",
     "output_type": "error",
     "traceback": [
      "\u001b[0;31m---------------------------------------------------------------------------\u001b[0m",
      "\u001b[0;31mKeyError\u001b[0m                                  Traceback (most recent call last)",
      "\u001b[0;32m<ipython-input-17-68f073a7eed5>\u001b[0m in \u001b[0;36m<module>\u001b[0;34m\u001b[0m\n\u001b[1;32m      1\u001b[0m \u001b[0morder\u001b[0m \u001b[0;34m=\u001b[0m \u001b[0;34m{\u001b[0m\u001b[0;34m\"cost\"\u001b[0m\u001b[0;34m:\u001b[0m \u001b[0;36m3.5\u001b[0m\u001b[0;34m,\u001b[0m \u001b[0;34m\"quantity\"\u001b[0m\u001b[0;34m:\u001b[0m \u001b[0;36m12\u001b[0m\u001b[0;34m}\u001b[0m\u001b[0;34m\u001b[0m\u001b[0;34m\u001b[0m\u001b[0m\n\u001b[0;32m----> 2\u001b[0;31m \u001b[0morder\u001b[0m\u001b[0;34m[\u001b[0m\u001b[0;34m\"chicken\"\u001b[0m\u001b[0;34m]\u001b[0m\u001b[0;34m\u001b[0m\u001b[0;34m\u001b[0m\u001b[0m\n\u001b[0m",
      "\u001b[0;31mKeyError\u001b[0m: 'chicken'"
     ]
    }
   ],
   "source": [
    "order = {\"cost\": 3.5, \"quantity\": 12}\n",
    "order[\"chicken\"]"
   ]
  },
  {
   "cell_type": "markdown",
   "metadata": {},
   "source": [
    "The <b> get() </b> method will look for a given key in a dictionary. If the key exists, it will return the corresponding value. Otherwise, it returns None."
   ]
  },
  {
   "cell_type": "code",
   "execution_count": 20,
   "metadata": {},
   "outputs": [
    {
     "name": "stdout",
     "output_type": "stream",
     "text": [
      "None\n",
      "3.5\n",
      "The key is not found.\n"
     ]
    }
   ],
   "source": [
    "print(order.get(\"chicken\"))\n",
    "print(order.get(\"cost\"))\n",
    "\n",
    "print(order.get(\"chicken\",\"The key is not found.\"))  "
   ]
  },
  {
   "cell_type": "markdown",
   "metadata": {},
   "source": [
    "3-9 Given this dictionary: <br>\n",
    "\n",
    "ski_runs = {\"easy\": \"green\", \"intermediate\": \"blue\", \"advanced\": \"black\"} <br>\n",
    "\n",
    "What does the following expression evaluate to? <br>\n",
    "ski_runs[\"expert\"] \n",
    "\n",
    "a. None <br>\n",
    "b. 0 <br>\n",
    "c. KeyError: 'expert' <br>\n",
    "d. False"
   ]
  },
  {
   "cell_type": "markdown",
   "metadata": {},
   "source": [
    "3-10 Given this dictionary: <br>\n",
    "\n",
    "ski_runs = {\"easy\": \"green\", \"intermediate\": \"blue\", \"advanced\": \"black\"} <br>\n",
    "\n",
    "What does the following expression return? <br>\n",
    "ski_runs.get(\"expert\")\n",
    "\n",
    "a. False <br>\n",
    "b. True <br>\n",
    "c. None <br>\n",
    "d. KeyError: 'expert' <br>"
   ]
  },
  {
   "cell_type": "markdown",
   "metadata": {},
   "source": [
    "<b> Removing Items from a Dictionary"
   ]
  },
  {
   "cell_type": "code",
   "execution_count": 25,
   "metadata": {},
   "outputs": [
    {
     "name": "stdout",
     "output_type": "stream",
     "text": [
      "{'arugala': 1.1, 'basil': 2.54, 'blackberries': 4.93, 'blueberries': 2.88, 'fennel': 3.36}\n"
     ]
    }
   ],
   "source": [
    "prices = {\n",
    "    \"arugala\": 1.10,\n",
    "    \"basil\": 2.54,\n",
    "    \"blackberries\": 4.93,\n",
    "    \"blueberries\": 2.88,\n",
    "    \"coconut\": 7.15,\n",
    "    \"fennel\": 3.36,\n",
    "}\n",
    "\n",
    "prices.pop(\"coconut\")\n",
    "print(prices)"
   ]
  },
  {
   "cell_type": "code",
   "execution_count": 26,
   "metadata": {},
   "outputs": [
    {
     "name": "stdout",
     "output_type": "stream",
     "text": [
      "{'arugala': 1.1, 'basil': 2.54, 'blackberries': 4.93, 'blueberries': 2.88, 'fennel': 3.36}\n"
     ]
    }
   ],
   "source": [
    "prices = {\n",
    "    \"arugala\": 1.10,\n",
    "    \"basil\": 2.54,\n",
    "    \"blackberries\": 4.93,\n",
    "    \"blueberries\": 2.88,\n",
    "    \"coconut\": 7.15,\n",
    "    \"fennel\": 3.36,\n",
    "}\n",
    "\n",
    "del prices[\"coconut\"]\n",
    "print(prices)"
   ]
  },
  {
   "cell_type": "code",
   "execution_count": 27,
   "metadata": {},
   "outputs": [
    {
     "name": "stdout",
     "output_type": "stream",
     "text": [
      "{}\n"
     ]
    }
   ],
   "source": [
    "prices = {\n",
    "    \"arugala\": 1.10,\n",
    "    \"basil\": 2.54,\n",
    "    \"blackberries\": 4.93,\n",
    "    \"blueberries\": 2.88,\n",
    "    \"coconut\": 7.15,\n",
    "    \"fennel\": 3.36,\n",
    "}\n",
    "\n",
    "prices.clear()\n",
    "print(prices)"
   ]
  },
  {
   "cell_type": "code",
   "execution_count": null,
   "metadata": {},
   "outputs": [],
   "source": []
  }
 ],
 "metadata": {
  "kernelspec": {
   "display_name": "Python 3 (ipykernel)",
   "language": "python",
   "name": "python3"
  },
  "language_info": {
   "codemirror_mode": {
    "name": "ipython",
    "version": 3
   },
   "file_extension": ".py",
   "mimetype": "text/x-python",
   "name": "python",
   "nbconvert_exporter": "python",
   "pygments_lexer": "ipython3",
   "version": "3.12.0"
  }
 },
 "nbformat": 4,
 "nbformat_minor": 4
}
